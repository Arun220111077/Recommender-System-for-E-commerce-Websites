{
 "cells": [
  {
   "cell_type": "code",
   "execution_count": 1,
   "id": "0c6b5182-4c29-490c-b335-9e4daa288e99",
   "metadata": {},
   "outputs": [],
   "source": [
    "import pandas as pd\n",
    "import numpy as np "
   ]
  },
  {
   "cell_type": "code",
   "execution_count": 2,
   "id": "372de79c-fd5a-41b8-a314-f878b8886ca5",
   "metadata": {},
   "outputs": [],
   "source": [
    "new_data = pd.read_csv('Ajio_Fasion.csv', encoding='latin1')\n",
    "new_data = new_data.head(5000)"
   ]
  },
  {
   "cell_type": "code",
   "execution_count": 3,
   "id": "8449fcde-f189-4459-af2d-efef9fc9b83f",
   "metadata": {},
   "outputs": [
    {
     "data": {
      "text/plain": [
       "45000"
      ]
     },
     "execution_count": 3,
     "metadata": {},
     "output_type": "execute_result"
    }
   ],
   "source": [
    "new_data.size"
   ]
  },
  {
   "cell_type": "code",
   "execution_count": 4,
   "id": "48f2e814-c961-479d-b7a5-2f4838be0c4a",
   "metadata": {},
   "outputs": [
    {
     "data": {
      "text/html": [
       "<div>\n",
       "<style scoped>\n",
       "    .dataframe tbody tr th:only-of-type {\n",
       "        vertical-align: middle;\n",
       "    }\n",
       "\n",
       "    .dataframe tbody tr th {\n",
       "        vertical-align: top;\n",
       "    }\n",
       "\n",
       "    .dataframe thead th {\n",
       "        text-align: right;\n",
       "    }\n",
       "</style>\n",
       "<table border=\"1\" class=\"dataframe\">\n",
       "  <thead>\n",
       "    <tr style=\"text-align: right;\">\n",
       "      <th></th>\n",
       "      <th>Id_Product</th>\n",
       "      <th>Category_by_gender</th>\n",
       "      <th>Name</th>\n",
       "      <th>Brand</th>\n",
       "      <th>Color</th>\n",
       "      <th>Description</th>\n",
       "      <th>URL_image</th>\n",
       "      <th>Product_URL</th>\n",
       "    </tr>\n",
       "  </thead>\n",
       "  <tbody>\n",
       "    <tr>\n",
       "      <th>0</th>\n",
       "      <td>441137362002</td>\n",
       "      <td>Men</td>\n",
       "      <td>Checked Polo T-shirt</td>\n",
       "      <td>netplay</td>\n",
       "      <td>white</td>\n",
       "      <td>Checked Polo T-shirt</td>\n",
       "      <td>https://assets.ajio.com/medias/sys_master/root...</td>\n",
       "      <td>https://www.ajio.com/netplay-checked-polo-t-sh...</td>\n",
       "    </tr>\n",
       "  </tbody>\n",
       "</table>\n",
       "</div>"
      ],
      "text/plain": [
       "     Id_Product Category_by_gender                  Name    Brand  Color  \\\n",
       "0  441137362002                Men  Checked Polo T-shirt  netplay  white   \n",
       "\n",
       "            Description                                          URL_image  \\\n",
       "0  Checked Polo T-shirt  https://assets.ajio.com/medias/sys_master/root...   \n",
       "\n",
       "                                         Product_URL  \n",
       "0  https://www.ajio.com/netplay-checked-polo-t-sh...  "
      ]
     },
     "execution_count": 4,
     "metadata": {},
     "output_type": "execute_result"
    }
   ],
   "source": [
    "new_data['Name'] = new_data['Description']\n",
    "new_data = new_data[['Id_Product', 'Category_by_gender', 'Name', 'Brand', 'Color','Description', 'URL_image', 'Product_URL']]\n",
    "new_data.head(1)"
   ]
  },
  {
   "cell_type": "code",
   "execution_count": 5,
   "id": "fe7af420-a686-4c3c-bcf4-1e8253adfef7",
   "metadata": {},
   "outputs": [],
   "source": [
    "column_name_mapping = {\n",
    "    'Id_Product': 'ID',\n",
    "    'Category_by_gender': 'Category',\n",
    "}\n",
    "new_data.rename(columns= column_name_mapping, inplace= True)"
   ]
  },
  {
   "cell_type": "code",
   "execution_count": 6,
   "id": "61c97cd8-5b02-4712-987c-a5f74bacbc85",
   "metadata": {},
   "outputs": [
    {
     "name": "stdout",
     "output_type": "stream",
     "text": [
      "<class 'pandas.core.frame.DataFrame'>\n",
      "RangeIndex: 5000 entries, 0 to 4999\n",
      "Data columns (total 8 columns):\n",
      " #   Column       Non-Null Count  Dtype \n",
      "---  ------       --------------  ----- \n",
      " 0   ID           5000 non-null   int64 \n",
      " 1   Category     5000 non-null   object\n",
      " 2   Name         5000 non-null   object\n",
      " 3   Brand        5000 non-null   object\n",
      " 4   Color        5000 non-null   object\n",
      " 5   Description  5000 non-null   object\n",
      " 6   URL_image    5000 non-null   object\n",
      " 7   Product_URL  5000 non-null   object\n",
      "dtypes: int64(1), object(7)\n",
      "memory usage: 312.6+ KB\n"
     ]
    }
   ],
   "source": [
    "new_data.info()"
   ]
  },
  {
   "cell_type": "code",
   "execution_count": 7,
   "id": "909d1b2c-756c-423a-85b9-622952a15af3",
   "metadata": {},
   "outputs": [],
   "source": [
    "new_data.dropna(inplace= True)"
   ]
  },
  {
   "cell_type": "code",
   "execution_count": 8,
   "id": "8dd924ad-8afa-4ccc-af83-68957dcc4426",
   "metadata": {},
   "outputs": [
    {
     "data": {
      "text/plain": [
       "ID             0\n",
       "Category       0\n",
       "Name           0\n",
       "Brand          0\n",
       "Color          0\n",
       "Description    0\n",
       "URL_image      0\n",
       "Product_URL    0\n",
       "dtype: int64"
      ]
     },
     "execution_count": 8,
     "metadata": {},
     "output_type": "execute_result"
    }
   ],
   "source": [
    "new_data.isnull().sum()"
   ]
  },
  {
   "cell_type": "code",
   "execution_count": 9,
   "id": "1ebd1f7c-607a-4cad-b76a-9f0991c629a2",
   "metadata": {},
   "outputs": [],
   "source": [
    "new_data.drop_duplicates(inplace= True)"
   ]
  },
  {
   "cell_type": "code",
   "execution_count": 10,
   "id": "2f07f42c-068d-4b3a-8541-ec1bc3890189",
   "metadata": {},
   "outputs": [
    {
     "data": {
      "text/plain": [
       "np.int64(0)"
      ]
     },
     "execution_count": 10,
     "metadata": {},
     "output_type": "execute_result"
    }
   ],
   "source": [
    "new_data.duplicated().sum()"
   ]
  },
  {
   "cell_type": "code",
   "execution_count": 11,
   "id": "96feb4a3-4d38-4d8f-b6f3-ebe27405ba77",
   "metadata": {},
   "outputs": [],
   "source": [
    "new_data = new_data.drop_duplicates(subset='Name', keep='first')"
   ]
  },
  {
   "cell_type": "code",
   "execution_count": 12,
   "id": "84d85680-6360-44f7-b49c-4554b293b3d3",
   "metadata": {},
   "outputs": [
    {
     "data": {
      "text/html": [
       "<div>\n",
       "<style scoped>\n",
       "    .dataframe tbody tr th:only-of-type {\n",
       "        vertical-align: middle;\n",
       "    }\n",
       "\n",
       "    .dataframe tbody tr th {\n",
       "        vertical-align: top;\n",
       "    }\n",
       "\n",
       "    .dataframe thead th {\n",
       "        text-align: right;\n",
       "    }\n",
       "</style>\n",
       "<table border=\"1\" class=\"dataframe\">\n",
       "  <thead>\n",
       "    <tr style=\"text-align: right;\">\n",
       "      <th></th>\n",
       "      <th>ID</th>\n",
       "      <th>Category</th>\n",
       "      <th>Name</th>\n",
       "      <th>Brand</th>\n",
       "      <th>Color</th>\n",
       "      <th>Description</th>\n",
       "      <th>URL_image</th>\n",
       "      <th>Product_URL</th>\n",
       "    </tr>\n",
       "  </thead>\n",
       "  <tbody>\n",
       "    <tr>\n",
       "      <th>0</th>\n",
       "      <td>441137362002</td>\n",
       "      <td>Men</td>\n",
       "      <td>Checked Polo T-shirt</td>\n",
       "      <td>netplay</td>\n",
       "      <td>white</td>\n",
       "      <td>Checked Polo T-shirt</td>\n",
       "      <td>https://assets.ajio.com/medias/sys_master/root...</td>\n",
       "      <td>https://www.ajio.com/netplay-checked-polo-t-sh...</td>\n",
       "    </tr>\n",
       "  </tbody>\n",
       "</table>\n",
       "</div>"
      ],
      "text/plain": [
       "             ID Category                  Name    Brand  Color  \\\n",
       "0  441137362002      Men  Checked Polo T-shirt  netplay  white   \n",
       "\n",
       "            Description                                          URL_image  \\\n",
       "0  Checked Polo T-shirt  https://assets.ajio.com/medias/sys_master/root...   \n",
       "\n",
       "                                         Product_URL  \n",
       "0  https://www.ajio.com/netplay-checked-polo-t-sh...  "
      ]
     },
     "execution_count": 12,
     "metadata": {},
     "output_type": "execute_result"
    }
   ],
   "source": [
    "new_data.head(1)"
   ]
  },
  {
   "cell_type": "code",
   "execution_count": 13,
   "id": "46901e66-e110-4762-8b06-276c214b7179",
   "metadata": {},
   "outputs": [],
   "source": [
    "new_data['Description'] = new_data['Description'].apply(lambda x:x.split())\n",
    "new_data['Category'] = new_data['Category'].apply(lambda x:x.split())\n",
    "new_data['Brand'] = new_data['Brand'].apply(lambda x:x.split())\n",
    "new_data['Color'] = new_data['Color'].apply(lambda x:x.split())\n",
    "\n",
    "# new_data.iloc[123][\"Category\"]\n",
    "# new_data.iloc[123][\"Category\"]"
   ]
  },
  {
   "cell_type": "code",
   "execution_count": 14,
   "id": "41ba2a78-14db-4b92-bf72-0f054ceb81fd",
   "metadata": {},
   "outputs": [
    {
     "data": {
      "text/html": [
       "<div>\n",
       "<style scoped>\n",
       "    .dataframe tbody tr th:only-of-type {\n",
       "        vertical-align: middle;\n",
       "    }\n",
       "\n",
       "    .dataframe tbody tr th {\n",
       "        vertical-align: top;\n",
       "    }\n",
       "\n",
       "    .dataframe thead th {\n",
       "        text-align: right;\n",
       "    }\n",
       "</style>\n",
       "<table border=\"1\" class=\"dataframe\">\n",
       "  <thead>\n",
       "    <tr style=\"text-align: right;\">\n",
       "      <th></th>\n",
       "      <th>ID</th>\n",
       "      <th>Category</th>\n",
       "      <th>Name</th>\n",
       "      <th>Brand</th>\n",
       "      <th>Color</th>\n",
       "      <th>Description</th>\n",
       "      <th>URL_image</th>\n",
       "      <th>Product_URL</th>\n",
       "    </tr>\n",
       "  </thead>\n",
       "  <tbody>\n",
       "    <tr>\n",
       "      <th>0</th>\n",
       "      <td>441137362002</td>\n",
       "      <td>[Men]</td>\n",
       "      <td>Checked Polo T-shirt</td>\n",
       "      <td>[netplay]</td>\n",
       "      <td>[white]</td>\n",
       "      <td>[Checked, Polo, T-shirt]</td>\n",
       "      <td>https://assets.ajio.com/medias/sys_master/root...</td>\n",
       "      <td>https://www.ajio.com/netplay-checked-polo-t-sh...</td>\n",
       "    </tr>\n",
       "  </tbody>\n",
       "</table>\n",
       "</div>"
      ],
      "text/plain": [
       "             ID Category                  Name      Brand    Color  \\\n",
       "0  441137362002    [Men]  Checked Polo T-shirt  [netplay]  [white]   \n",
       "\n",
       "                Description  \\\n",
       "0  [Checked, Polo, T-shirt]   \n",
       "\n",
       "                                           URL_image  \\\n",
       "0  https://assets.ajio.com/medias/sys_master/root...   \n",
       "\n",
       "                                         Product_URL  \n",
       "0  https://www.ajio.com/netplay-checked-polo-t-sh...  "
      ]
     },
     "execution_count": 14,
     "metadata": {},
     "output_type": "execute_result"
    }
   ],
   "source": [
    "new_data.head(1)"
   ]
  },
  {
   "cell_type": "code",
   "execution_count": 15,
   "id": "eff6587b-a918-4d5e-8124-aecaf5936eb5",
   "metadata": {},
   "outputs": [],
   "source": [
    "# 'arun singh' convert into 'arunsingh'\n",
    "new_data['Category'] = new_data['Category'].apply(lambda x:[i.replace(\" \",\"\") for i in x])\n",
    "new_data['Brand'] = new_data['Brand'].apply(lambda x:[i.replace(\" \",\"\") for i in x])\n",
    "new_data['Color'] = new_data['Color'].apply(lambda x:[i.replace(\" \",\"\") for i in x])\n",
    "new_data['Description'] = new_data['Description'].apply(lambda x:[i.replace(\" \",\"\") for i in x])"
   ]
  },
  {
   "cell_type": "code",
   "execution_count": 16,
   "id": "b36c6f73-f98a-46a9-97ad-cce9b22749cf",
   "metadata": {},
   "outputs": [],
   "source": [
    "new_data['Tags'] = new_data['Description'] + new_data['Category'] + new_data['Brand'] + new_data['Color']"
   ]
  },
  {
   "cell_type": "code",
   "execution_count": 17,
   "id": "733d5f2d-a93f-4cca-a433-0f532f6a202a",
   "metadata": {},
   "outputs": [
    {
     "data": {
      "text/html": [
       "<div>\n",
       "<style scoped>\n",
       "    .dataframe tbody tr th:only-of-type {\n",
       "        vertical-align: middle;\n",
       "    }\n",
       "\n",
       "    .dataframe tbody tr th {\n",
       "        vertical-align: top;\n",
       "    }\n",
       "\n",
       "    .dataframe thead th {\n",
       "        text-align: right;\n",
       "    }\n",
       "</style>\n",
       "<table border=\"1\" class=\"dataframe\">\n",
       "  <thead>\n",
       "    <tr style=\"text-align: right;\">\n",
       "      <th></th>\n",
       "      <th>ID</th>\n",
       "      <th>Category</th>\n",
       "      <th>Name</th>\n",
       "      <th>Brand</th>\n",
       "      <th>Color</th>\n",
       "      <th>Description</th>\n",
       "      <th>URL_image</th>\n",
       "      <th>Product_URL</th>\n",
       "      <th>Tags</th>\n",
       "    </tr>\n",
       "  </thead>\n",
       "  <tbody>\n",
       "    <tr>\n",
       "      <th>0</th>\n",
       "      <td>441137362002</td>\n",
       "      <td>[Men]</td>\n",
       "      <td>Checked Polo T-shirt</td>\n",
       "      <td>[netplay]</td>\n",
       "      <td>[white]</td>\n",
       "      <td>[Checked, Polo, T-shirt]</td>\n",
       "      <td>https://assets.ajio.com/medias/sys_master/root...</td>\n",
       "      <td>https://www.ajio.com/netplay-checked-polo-t-sh...</td>\n",
       "      <td>[Checked, Polo, T-shirt, Men, netplay, white]</td>\n",
       "    </tr>\n",
       "    <tr>\n",
       "      <th>1</th>\n",
       "      <td>441124497006</td>\n",
       "      <td>[Men]</td>\n",
       "      <td>Tapered Fit Flat-Front Trousers</td>\n",
       "      <td>[netplay]</td>\n",
       "      <td>[navy]</td>\n",
       "      <td>[Tapered, Fit, Flat-Front, Trousers]</td>\n",
       "      <td>https://assets.ajio.com/medias/sys_master/root...</td>\n",
       "      <td>https://www.ajio.com/netplay-tapered-fit-flat-...</td>\n",
       "      <td>[Tapered, Fit, Flat-Front, Trousers, Men, netp...</td>\n",
       "    </tr>\n",
       "  </tbody>\n",
       "</table>\n",
       "</div>"
      ],
      "text/plain": [
       "             ID Category                             Name      Brand    Color  \\\n",
       "0  441137362002    [Men]             Checked Polo T-shirt  [netplay]  [white]   \n",
       "1  441124497006    [Men]  Tapered Fit Flat-Front Trousers  [netplay]   [navy]   \n",
       "\n",
       "                            Description  \\\n",
       "0              [Checked, Polo, T-shirt]   \n",
       "1  [Tapered, Fit, Flat-Front, Trousers]   \n",
       "\n",
       "                                           URL_image  \\\n",
       "0  https://assets.ajio.com/medias/sys_master/root...   \n",
       "1  https://assets.ajio.com/medias/sys_master/root...   \n",
       "\n",
       "                                         Product_URL  \\\n",
       "0  https://www.ajio.com/netplay-checked-polo-t-sh...   \n",
       "1  https://www.ajio.com/netplay-tapered-fit-flat-...   \n",
       "\n",
       "                                                Tags  \n",
       "0      [Checked, Polo, T-shirt, Men, netplay, white]  \n",
       "1  [Tapered, Fit, Flat-Front, Trousers, Men, netp...  "
      ]
     },
     "execution_count": 17,
     "metadata": {},
     "output_type": "execute_result"
    }
   ],
   "source": [
    "new_data.head(2)"
   ]
  },
  {
   "cell_type": "code",
   "execution_count": 18,
   "id": "4401310e-8ec1-4dfb-92e7-6b414ba4c517",
   "metadata": {},
   "outputs": [],
   "source": [
    "new_df = new_data[['ID', 'Name', 'Category', 'Brand', 'Tags', 'URL_image', 'Product_URL']]"
   ]
  },
  {
   "cell_type": "code",
   "execution_count": 19,
   "id": "bd8de2d6-2cad-4ac9-bcde-1453166743a3",
   "metadata": {},
   "outputs": [
    {
     "name": "stderr",
     "output_type": "stream",
     "text": [
      "/var/folders/77/q6gq178j145gg_6l44q35g_r0000gn/T/ipykernel_8175/1943410771.py:1: SettingWithCopyWarning: \n",
      "A value is trying to be set on a copy of a slice from a DataFrame.\n",
      "Try using .loc[row_indexer,col_indexer] = value instead\n",
      "\n",
      "See the caveats in the documentation: https://pandas.pydata.org/pandas-docs/stable/user_guide/indexing.html#returning-a-view-versus-a-copy\n",
      "  new_df['Tags'] = new_df['Tags'].apply(lambda x:\" \".join(x))\n"
     ]
    }
   ],
   "source": [
    "new_df['Tags'] = new_df['Tags'].apply(lambda x:\" \".join(x))"
   ]
  },
  {
   "cell_type": "code",
   "execution_count": 20,
   "id": "3cd34c79-0be3-4a3e-83ae-70d38ac0651c",
   "metadata": {},
   "outputs": [
    {
     "name": "stderr",
     "output_type": "stream",
     "text": [
      "/var/folders/77/q6gq178j145gg_6l44q35g_r0000gn/T/ipykernel_8175/1574902671.py:1: SettingWithCopyWarning: \n",
      "A value is trying to be set on a copy of a slice from a DataFrame.\n",
      "Try using .loc[row_indexer,col_indexer] = value instead\n",
      "\n",
      "See the caveats in the documentation: https://pandas.pydata.org/pandas-docs/stable/user_guide/indexing.html#returning-a-view-versus-a-copy\n",
      "  new_df['Tags'] = new_df['Tags'].apply(lambda x:x.lower())\n"
     ]
    }
   ],
   "source": [
    "new_df['Tags'] = new_df['Tags'].apply(lambda x:x.lower())"
   ]
  },
  {
   "cell_type": "code",
   "execution_count": 21,
   "id": "0cda9b38-eb1c-4c68-80ee-4a77fbd44f7c",
   "metadata": {},
   "outputs": [
    {
     "data": {
      "text/html": [
       "<div>\n",
       "<style scoped>\n",
       "    .dataframe tbody tr th:only-of-type {\n",
       "        vertical-align: middle;\n",
       "    }\n",
       "\n",
       "    .dataframe tbody tr th {\n",
       "        vertical-align: top;\n",
       "    }\n",
       "\n",
       "    .dataframe thead th {\n",
       "        text-align: right;\n",
       "    }\n",
       "</style>\n",
       "<table border=\"1\" class=\"dataframe\">\n",
       "  <thead>\n",
       "    <tr style=\"text-align: right;\">\n",
       "      <th></th>\n",
       "      <th>ID</th>\n",
       "      <th>Name</th>\n",
       "      <th>Category</th>\n",
       "      <th>Brand</th>\n",
       "      <th>Tags</th>\n",
       "      <th>URL_image</th>\n",
       "      <th>Product_URL</th>\n",
       "    </tr>\n",
       "  </thead>\n",
       "  <tbody>\n",
       "    <tr>\n",
       "      <th>0</th>\n",
       "      <td>441137362002</td>\n",
       "      <td>Checked Polo T-shirt</td>\n",
       "      <td>[Men]</td>\n",
       "      <td>[netplay]</td>\n",
       "      <td>checked polo t-shirt men netplay white</td>\n",
       "      <td>https://assets.ajio.com/medias/sys_master/root...</td>\n",
       "      <td>https://www.ajio.com/netplay-checked-polo-t-sh...</td>\n",
       "    </tr>\n",
       "  </tbody>\n",
       "</table>\n",
       "</div>"
      ],
      "text/plain": [
       "             ID                  Name Category      Brand  \\\n",
       "0  441137362002  Checked Polo T-shirt    [Men]  [netplay]   \n",
       "\n",
       "                                     Tags  \\\n",
       "0  checked polo t-shirt men netplay white   \n",
       "\n",
       "                                           URL_image  \\\n",
       "0  https://assets.ajio.com/medias/sys_master/root...   \n",
       "\n",
       "                                         Product_URL  \n",
       "0  https://www.ajio.com/netplay-checked-polo-t-sh...  "
      ]
     },
     "execution_count": 21,
     "metadata": {},
     "output_type": "execute_result"
    }
   ],
   "source": [
    "new_df.head(1)"
   ]
  },
  {
   "cell_type": "markdown",
   "id": "e173cd3e-cf4c-4519-a282-e2cbf8310ff2",
   "metadata": {},
   "source": [
    "# Text Vectorization\n",
    "# Bag of Words"
   ]
  },
  {
   "cell_type": "code",
   "execution_count": 22,
   "id": "a19b916e-897e-496e-9d99-352c84e585e5",
   "metadata": {},
   "outputs": [],
   "source": [
    "import nltk"
   ]
  },
  {
   "cell_type": "code",
   "execution_count": 23,
   "id": "a52cddbc-9667-4566-8d03-d8499b500926",
   "metadata": {},
   "outputs": [],
   "source": [
    "from nltk.stem.porter import PorterStemmer\n",
    "ps = PorterStemmer()"
   ]
  },
  {
   "cell_type": "code",
   "execution_count": 24,
   "id": "143da4b5-12b5-4f93-9a92-626bfbd96ff7",
   "metadata": {},
   "outputs": [],
   "source": [
    "def stem(text):\n",
    "    y = []\n",
    "\n",
    "    for i in text.split():  # Added the colon here\n",
    "        y.append(ps.stem(i))\n",
    "\n",
    "    return \" \".join(y)"
   ]
  },
  {
   "cell_type": "code",
   "execution_count": 25,
   "id": "20d6b5ca-dc93-47cb-a764-4a36263a1d1f",
   "metadata": {},
   "outputs": [
    {
     "name": "stderr",
     "output_type": "stream",
     "text": [
      "/var/folders/77/q6gq178j145gg_6l44q35g_r0000gn/T/ipykernel_8175/634297125.py:1: SettingWithCopyWarning: \n",
      "A value is trying to be set on a copy of a slice from a DataFrame.\n",
      "Try using .loc[row_indexer,col_indexer] = value instead\n",
      "\n",
      "See the caveats in the documentation: https://pandas.pydata.org/pandas-docs/stable/user_guide/indexing.html#returning-a-view-versus-a-copy\n",
      "  new_df['Tags'] = new_df['Tags'].apply(stem)\n"
     ]
    }
   ],
   "source": [
    "new_df['Tags'] = new_df['Tags'].apply(stem)"
   ]
  },
  {
   "cell_type": "code",
   "execution_count": 26,
   "id": "6f417a08-9715-48cb-87b6-79ea39c2012d",
   "metadata": {},
   "outputs": [
    {
     "data": {
      "text/plain": [
       "(2368, 7)"
      ]
     },
     "execution_count": 26,
     "metadata": {},
     "output_type": "execute_result"
    }
   ],
   "source": [
    "new_df.shape"
   ]
  },
  {
   "cell_type": "code",
   "execution_count": 27,
   "id": "bbc91f82-755b-46be-8bc0-c447adc1d483",
   "metadata": {},
   "outputs": [],
   "source": [
    "from sklearn.feature_extraction.text import CountVectorizer\n",
    "cv = CountVectorizer(max_features=2368, stop_words='english')"
   ]
  },
  {
   "cell_type": "code",
   "execution_count": 28,
   "id": "0b52a714-914d-428a-8ed4-2672bac45ea9",
   "metadata": {},
   "outputs": [],
   "source": [
    "vectors = cv.fit_transform(new_df['Tags']).toarray()"
   ]
  },
  {
   "cell_type": "code",
   "execution_count": 29,
   "id": "691c019b-1159-42b4-ab63-88ef28ef966c",
   "metadata": {},
   "outputs": [
    {
     "data": {
      "text/plain": [
       "array([[0, 0, 0, ..., 0, 0, 0],\n",
       "       [0, 0, 0, ..., 0, 0, 0],\n",
       "       [0, 0, 0, ..., 0, 0, 0],\n",
       "       ...,\n",
       "       [0, 0, 0, ..., 0, 0, 0],\n",
       "       [0, 0, 0, ..., 0, 0, 0],\n",
       "       [0, 0, 0, ..., 0, 0, 0]])"
      ]
     },
     "execution_count": 29,
     "metadata": {},
     "output_type": "execute_result"
    }
   ],
   "source": [
    "vectors"
   ]
  },
  {
   "cell_type": "code",
   "execution_count": 30,
   "id": "a35b4701-23e2-42fd-9805-36d9fbb999e9",
   "metadata": {},
   "outputs": [
    {
     "data": {
      "text/html": [
       "<div>\n",
       "<style scoped>\n",
       "    .dataframe tbody tr th:only-of-type {\n",
       "        vertical-align: middle;\n",
       "    }\n",
       "\n",
       "    .dataframe tbody tr th {\n",
       "        vertical-align: top;\n",
       "    }\n",
       "\n",
       "    .dataframe thead th {\n",
       "        text-align: right;\n",
       "    }\n",
       "</style>\n",
       "<table border=\"1\" class=\"dataframe\">\n",
       "  <thead>\n",
       "    <tr style=\"text-align: right;\">\n",
       "      <th></th>\n",
       "      <th>ID</th>\n",
       "      <th>Name</th>\n",
       "      <th>Category</th>\n",
       "      <th>Brand</th>\n",
       "      <th>Tags</th>\n",
       "      <th>URL_image</th>\n",
       "      <th>Product_URL</th>\n",
       "    </tr>\n",
       "  </thead>\n",
       "  <tbody>\n",
       "    <tr>\n",
       "      <th>0</th>\n",
       "      <td>441137362002</td>\n",
       "      <td>Checked Polo T-shirt</td>\n",
       "      <td>[Men]</td>\n",
       "      <td>[netplay]</td>\n",
       "      <td>check polo t-shirt men netplay white</td>\n",
       "      <td>https://assets.ajio.com/medias/sys_master/root...</td>\n",
       "      <td>https://www.ajio.com/netplay-checked-polo-t-sh...</td>\n",
       "    </tr>\n",
       "    <tr>\n",
       "      <th>1</th>\n",
       "      <td>441124497006</td>\n",
       "      <td>Tapered Fit Flat-Front Trousers</td>\n",
       "      <td>[Men]</td>\n",
       "      <td>[netplay]</td>\n",
       "      <td>taper fit flat-front trouser men netplay navi</td>\n",
       "      <td>https://assets.ajio.com/medias/sys_master/root...</td>\n",
       "      <td>https://www.ajio.com/netplay-tapered-fit-flat-...</td>\n",
       "    </tr>\n",
       "    <tr>\n",
       "      <th>2</th>\n",
       "      <td>460453612003</td>\n",
       "      <td>Striped Slim Fit Shirt with Patch Pocket</td>\n",
       "      <td>[Men]</td>\n",
       "      <td>[the-indian-garage-co]</td>\n",
       "      <td>stripe slim fit shirt with patch pocket men th...</td>\n",
       "      <td>https://assets.ajio.com/medias/sys_master/root...</td>\n",
       "      <td>https://www.ajio.com/the-indian-garage-co-stri...</td>\n",
       "    </tr>\n",
       "    <tr>\n",
       "      <th>3</th>\n",
       "      <td>441036730003</td>\n",
       "      <td>Heathered Crew-Neck T-shirt</td>\n",
       "      <td>[Men]</td>\n",
       "      <td>[performax]</td>\n",
       "      <td>heather crew-neck t-shirt men performax charcoal</td>\n",
       "      <td>https://assets.ajio.com/medias/sys_master/root...</td>\n",
       "      <td>https://www.ajio.com/performax-heathered-crew-...</td>\n",
       "    </tr>\n",
       "    <tr>\n",
       "      <th>4</th>\n",
       "      <td>441128531011</td>\n",
       "      <td>Washed Skinny Fit Jeans with Whiskers</td>\n",
       "      <td>[Men]</td>\n",
       "      <td>[john-players-jeans]</td>\n",
       "      <td>wash skinni fit jean with whisker men john-pla...</td>\n",
       "      <td>https://assets.ajio.com/medias/sys_master/root...</td>\n",
       "      <td>https://www.ajio.com/john-players-jeans-washed...</td>\n",
       "    </tr>\n",
       "    <tr>\n",
       "      <th>...</th>\n",
       "      <td>...</td>\n",
       "      <td>...</td>\n",
       "      <td>...</td>\n",
       "      <td>...</td>\n",
       "      <td>...</td>\n",
       "      <td>...</td>\n",
       "      <td>...</td>\n",
       "    </tr>\n",
       "    <tr>\n",
       "      <th>4990</th>\n",
       "      <td>410294621035</td>\n",
       "      <td>New Ottoman Arctic Hooded Windcheater</td>\n",
       "      <td>[Men]</td>\n",
       "      <td>[superdry]</td>\n",
       "      <td>new ottoman arctic hood windcheat men superdri...</td>\n",
       "      <td>https://assets.ajio.com/medias/sys_master/root...</td>\n",
       "      <td>https://www.ajio.com/superdry-new-ottoman-arct...</td>\n",
       "    </tr>\n",
       "    <tr>\n",
       "      <th>4992</th>\n",
       "      <td>469082975002</td>\n",
       "      <td>Logo Print Crew-Neck Batwing T-shirt</td>\n",
       "      <td>[Men]</td>\n",
       "      <td>[levis]</td>\n",
       "      <td>logo print crew-neck batw t-shirt men levi blue</td>\n",
       "      <td>https://assets.ajio.com/medias/sys_master/root...</td>\n",
       "      <td>https://www.ajio.com/levis-logo-print-crew-nec...</td>\n",
       "    </tr>\n",
       "    <tr>\n",
       "      <th>4995</th>\n",
       "      <td>462002525004</td>\n",
       "      <td>Striped Short Sleeves Polo T-shirt</td>\n",
       "      <td>[Men]</td>\n",
       "      <td>[campus-sutra]</td>\n",
       "      <td>stripe short sleev polo t-shirt men campus-sut...</td>\n",
       "      <td>https://assets.ajio.com/medias/sys_master/root...</td>\n",
       "      <td>https://www.ajio.com/campus-sutra-striped-shor...</td>\n",
       "    </tr>\n",
       "    <tr>\n",
       "      <th>4996</th>\n",
       "      <td>441128174003</td>\n",
       "      <td>Lightly Washed Mid-Rise Skinny Jeans</td>\n",
       "      <td>[Men]</td>\n",
       "      <td>[john-players-jeans]</td>\n",
       "      <td>lightli wash mid-ris skinni jean men john-play...</td>\n",
       "      <td>https://assets.ajio.com/medias/sys_master/root...</td>\n",
       "      <td>https://www.ajio.com/john-players-jeans-lightl...</td>\n",
       "    </tr>\n",
       "    <tr>\n",
       "      <th>4999</th>\n",
       "      <td>464057256003</td>\n",
       "      <td>Lightly Washed Slim Fit Jacket</td>\n",
       "      <td>[Men]</td>\n",
       "      <td>[prototype]</td>\n",
       "      <td>lightli wash slim fit jacket men prototyp blue</td>\n",
       "      <td>https://assets.ajio.com/medias/sys_master/root...</td>\n",
       "      <td>https://www.ajio.com/prototype-lightly-washed-...</td>\n",
       "    </tr>\n",
       "  </tbody>\n",
       "</table>\n",
       "<p>2368 rows × 7 columns</p>\n",
       "</div>"
      ],
      "text/plain": [
       "                ID                                      Name Category  \\\n",
       "0     441137362002                      Checked Polo T-shirt    [Men]   \n",
       "1     441124497006           Tapered Fit Flat-Front Trousers    [Men]   \n",
       "2     460453612003  Striped Slim Fit Shirt with Patch Pocket    [Men]   \n",
       "3     441036730003               Heathered Crew-Neck T-shirt    [Men]   \n",
       "4     441128531011     Washed Skinny Fit Jeans with Whiskers    [Men]   \n",
       "...            ...                                       ...      ...   \n",
       "4990  410294621035     New Ottoman Arctic Hooded Windcheater    [Men]   \n",
       "4992  469082975002      Logo Print Crew-Neck Batwing T-shirt    [Men]   \n",
       "4995  462002525004        Striped Short Sleeves Polo T-shirt    [Men]   \n",
       "4996  441128174003      Lightly Washed Mid-Rise Skinny Jeans    [Men]   \n",
       "4999  464057256003            Lightly Washed Slim Fit Jacket    [Men]   \n",
       "\n",
       "                       Brand  \\\n",
       "0                  [netplay]   \n",
       "1                  [netplay]   \n",
       "2     [the-indian-garage-co]   \n",
       "3                [performax]   \n",
       "4       [john-players-jeans]   \n",
       "...                      ...   \n",
       "4990              [superdry]   \n",
       "4992                 [levis]   \n",
       "4995          [campus-sutra]   \n",
       "4996    [john-players-jeans]   \n",
       "4999             [prototype]   \n",
       "\n",
       "                                                   Tags  \\\n",
       "0                  check polo t-shirt men netplay white   \n",
       "1         taper fit flat-front trouser men netplay navi   \n",
       "2     stripe slim fit shirt with patch pocket men th...   \n",
       "3      heather crew-neck t-shirt men performax charcoal   \n",
       "4     wash skinni fit jean with whisker men john-pla...   \n",
       "...                                                 ...   \n",
       "4990  new ottoman arctic hood windcheat men superdri...   \n",
       "4992    logo print crew-neck batw t-shirt men levi blue   \n",
       "4995  stripe short sleev polo t-shirt men campus-sut...   \n",
       "4996  lightli wash mid-ris skinni jean men john-play...   \n",
       "4999     lightli wash slim fit jacket men prototyp blue   \n",
       "\n",
       "                                              URL_image  \\\n",
       "0     https://assets.ajio.com/medias/sys_master/root...   \n",
       "1     https://assets.ajio.com/medias/sys_master/root...   \n",
       "2     https://assets.ajio.com/medias/sys_master/root...   \n",
       "3     https://assets.ajio.com/medias/sys_master/root...   \n",
       "4     https://assets.ajio.com/medias/sys_master/root...   \n",
       "...                                                 ...   \n",
       "4990  https://assets.ajio.com/medias/sys_master/root...   \n",
       "4992  https://assets.ajio.com/medias/sys_master/root...   \n",
       "4995  https://assets.ajio.com/medias/sys_master/root...   \n",
       "4996  https://assets.ajio.com/medias/sys_master/root...   \n",
       "4999  https://assets.ajio.com/medias/sys_master/root...   \n",
       "\n",
       "                                            Product_URL  \n",
       "0     https://www.ajio.com/netplay-checked-polo-t-sh...  \n",
       "1     https://www.ajio.com/netplay-tapered-fit-flat-...  \n",
       "2     https://www.ajio.com/the-indian-garage-co-stri...  \n",
       "3     https://www.ajio.com/performax-heathered-crew-...  \n",
       "4     https://www.ajio.com/john-players-jeans-washed...  \n",
       "...                                                 ...  \n",
       "4990  https://www.ajio.com/superdry-new-ottoman-arct...  \n",
       "4992  https://www.ajio.com/levis-logo-print-crew-nec...  \n",
       "4995  https://www.ajio.com/campus-sutra-striped-shor...  \n",
       "4996  https://www.ajio.com/john-players-jeans-lightl...  \n",
       "4999  https://www.ajio.com/prototype-lightly-washed-...  \n",
       "\n",
       "[2368 rows x 7 columns]"
      ]
     },
     "execution_count": 30,
     "metadata": {},
     "output_type": "execute_result"
    }
   ],
   "source": [
    "new_df"
   ]
  },
  {
   "cell_type": "code",
   "execution_count": 31,
   "id": "f47bd6ca-165a-4a8b-972b-d83be216eed7",
   "metadata": {},
   "outputs": [],
   "source": [
    "from sklearn.metrics.pairwise import cosine_similarity"
   ]
  },
  {
   "cell_type": "code",
   "execution_count": 32,
   "id": "0f1f9bf0-08b1-4b12-b6cd-0be58eea7ec8",
   "metadata": {},
   "outputs": [],
   "source": [
    "similarity = cosine_similarity(vectors)"
   ]
  },
  {
   "cell_type": "code",
   "execution_count": 33,
   "id": "4aeb4064-b11a-4248-9ab8-d06b9ce3e837",
   "metadata": {},
   "outputs": [
    {
     "data": {
      "text/plain": [
       "[(184, np.float64(0.7715167498104596)),\n",
       " (1672, np.float64(0.7715167498104596)),\n",
       " (165, np.float64(0.7216878364870323)),\n",
       " (550, np.float64(0.7216878364870323)),\n",
       " (612, np.float64(0.7216878364870323))]"
      ]
     },
     "execution_count": 33,
     "metadata": {},
     "output_type": "execute_result"
    }
   ],
   "source": [
    "sorted(list(enumerate(similarity[0])), reverse= True, key= lambda x:x[1])[1:6]"
   ]
  },
  {
   "cell_type": "code",
   "execution_count": 34,
   "id": "db7f861b-e843-404a-9358-2dd64f9def4c",
   "metadata": {},
   "outputs": [],
   "source": [
    "def recommend(items):\n",
    "    product_index = new_df[new_df['Name'] == items].index[0]\n",
    "    distances = similarity[product_index]  # Corrected the typo here\n",
    "    product_list = sorted(list(enumerate(distances)), reverse=True, key=lambda x: x[1])[1:6]\n",
    "\n",
    "    for i in product_list:\n",
    "        print(new_df.iloc[i[0]].Name)\n"
   ]
  },
  {
   "cell_type": "code",
   "execution_count": 35,
   "id": "a78e533f-3aaf-4c58-be70-25320e48feff",
   "metadata": {},
   "outputs": [
    {
     "data": {
      "text/plain": [
       "'Checked Polo T-shirt'"
      ]
     },
     "execution_count": 35,
     "metadata": {},
     "output_type": "execute_result"
    }
   ],
   "source": [
    "new_df['Name'][0]"
   ]
  },
  {
   "cell_type": "code",
   "execution_count": 36,
   "id": "cf7852e6-ec47-4308-8027-c558b3d3ecc5",
   "metadata": {},
   "outputs": [
    {
     "name": "stdout",
     "output_type": "stream",
     "text": [
      "Printed Cotton Polo T-shirt\n",
      "Polo T-shirt with Checked Collar\n",
      "Floral Print Cotton Polo T-shirt\n",
      "Checked Slim Fit Polo T-shirt\n",
      "Printed Slim Fit Polo T-shirt\n"
     ]
    }
   ],
   "source": [
    "recommend('Checked Polo T-shirt')"
   ]
  },
  {
   "cell_type": "code",
   "execution_count": 37,
   "id": "e3a65910-9b32-46d9-b8b4-7fc82f9fffb8",
   "metadata": {},
   "outputs": [
    {
     "data": {
      "text/html": [
       "<div>\n",
       "<style scoped>\n",
       "    .dataframe tbody tr th:only-of-type {\n",
       "        vertical-align: middle;\n",
       "    }\n",
       "\n",
       "    .dataframe tbody tr th {\n",
       "        vertical-align: top;\n",
       "    }\n",
       "\n",
       "    .dataframe thead th {\n",
       "        text-align: right;\n",
       "    }\n",
       "</style>\n",
       "<table border=\"1\" class=\"dataframe\">\n",
       "  <thead>\n",
       "    <tr style=\"text-align: right;\">\n",
       "      <th></th>\n",
       "      <th>ID</th>\n",
       "      <th>Name</th>\n",
       "      <th>Category</th>\n",
       "      <th>Brand</th>\n",
       "      <th>Tags</th>\n",
       "      <th>URL_image</th>\n",
       "      <th>Product_URL</th>\n",
       "    </tr>\n",
       "  </thead>\n",
       "  <tbody>\n",
       "    <tr>\n",
       "      <th>0</th>\n",
       "      <td>441137362002</td>\n",
       "      <td>Checked Polo T-shirt</td>\n",
       "      <td>[Men]</td>\n",
       "      <td>[netplay]</td>\n",
       "      <td>check polo t-shirt men netplay white</td>\n",
       "      <td>https://assets.ajio.com/medias/sys_master/root...</td>\n",
       "      <td>https://www.ajio.com/netplay-checked-polo-t-sh...</td>\n",
       "    </tr>\n",
       "    <tr>\n",
       "      <th>1</th>\n",
       "      <td>441124497006</td>\n",
       "      <td>Tapered Fit Flat-Front Trousers</td>\n",
       "      <td>[Men]</td>\n",
       "      <td>[netplay]</td>\n",
       "      <td>taper fit flat-front trouser men netplay navi</td>\n",
       "      <td>https://assets.ajio.com/medias/sys_master/root...</td>\n",
       "      <td>https://www.ajio.com/netplay-tapered-fit-flat-...</td>\n",
       "    </tr>\n",
       "    <tr>\n",
       "      <th>2</th>\n",
       "      <td>460453612003</td>\n",
       "      <td>Striped Slim Fit Shirt with Patch Pocket</td>\n",
       "      <td>[Men]</td>\n",
       "      <td>[the-indian-garage-co]</td>\n",
       "      <td>stripe slim fit shirt with patch pocket men th...</td>\n",
       "      <td>https://assets.ajio.com/medias/sys_master/root...</td>\n",
       "      <td>https://www.ajio.com/the-indian-garage-co-stri...</td>\n",
       "    </tr>\n",
       "    <tr>\n",
       "      <th>3</th>\n",
       "      <td>441036730003</td>\n",
       "      <td>Heathered Crew-Neck T-shirt</td>\n",
       "      <td>[Men]</td>\n",
       "      <td>[performax]</td>\n",
       "      <td>heather crew-neck t-shirt men performax charcoal</td>\n",
       "      <td>https://assets.ajio.com/medias/sys_master/root...</td>\n",
       "      <td>https://www.ajio.com/performax-heathered-crew-...</td>\n",
       "    </tr>\n",
       "    <tr>\n",
       "      <th>4</th>\n",
       "      <td>441128531011</td>\n",
       "      <td>Washed Skinny Fit Jeans with Whiskers</td>\n",
       "      <td>[Men]</td>\n",
       "      <td>[john-players-jeans]</td>\n",
       "      <td>wash skinni fit jean with whisker men john-pla...</td>\n",
       "      <td>https://assets.ajio.com/medias/sys_master/root...</td>\n",
       "      <td>https://www.ajio.com/john-players-jeans-washed...</td>\n",
       "    </tr>\n",
       "    <tr>\n",
       "      <th>...</th>\n",
       "      <td>...</td>\n",
       "      <td>...</td>\n",
       "      <td>...</td>\n",
       "      <td>...</td>\n",
       "      <td>...</td>\n",
       "      <td>...</td>\n",
       "      <td>...</td>\n",
       "    </tr>\n",
       "    <tr>\n",
       "      <th>4990</th>\n",
       "      <td>410294621035</td>\n",
       "      <td>New Ottoman Arctic Hooded Windcheater</td>\n",
       "      <td>[Men]</td>\n",
       "      <td>[superdry]</td>\n",
       "      <td>new ottoman arctic hood windcheat men superdri...</td>\n",
       "      <td>https://assets.ajio.com/medias/sys_master/root...</td>\n",
       "      <td>https://www.ajio.com/superdry-new-ottoman-arct...</td>\n",
       "    </tr>\n",
       "    <tr>\n",
       "      <th>4992</th>\n",
       "      <td>469082975002</td>\n",
       "      <td>Logo Print Crew-Neck Batwing T-shirt</td>\n",
       "      <td>[Men]</td>\n",
       "      <td>[levis]</td>\n",
       "      <td>logo print crew-neck batw t-shirt men levi blue</td>\n",
       "      <td>https://assets.ajio.com/medias/sys_master/root...</td>\n",
       "      <td>https://www.ajio.com/levis-logo-print-crew-nec...</td>\n",
       "    </tr>\n",
       "    <tr>\n",
       "      <th>4995</th>\n",
       "      <td>462002525004</td>\n",
       "      <td>Striped Short Sleeves Polo T-shirt</td>\n",
       "      <td>[Men]</td>\n",
       "      <td>[campus-sutra]</td>\n",
       "      <td>stripe short sleev polo t-shirt men campus-sut...</td>\n",
       "      <td>https://assets.ajio.com/medias/sys_master/root...</td>\n",
       "      <td>https://www.ajio.com/campus-sutra-striped-shor...</td>\n",
       "    </tr>\n",
       "    <tr>\n",
       "      <th>4996</th>\n",
       "      <td>441128174003</td>\n",
       "      <td>Lightly Washed Mid-Rise Skinny Jeans</td>\n",
       "      <td>[Men]</td>\n",
       "      <td>[john-players-jeans]</td>\n",
       "      <td>lightli wash mid-ris skinni jean men john-play...</td>\n",
       "      <td>https://assets.ajio.com/medias/sys_master/root...</td>\n",
       "      <td>https://www.ajio.com/john-players-jeans-lightl...</td>\n",
       "    </tr>\n",
       "    <tr>\n",
       "      <th>4999</th>\n",
       "      <td>464057256003</td>\n",
       "      <td>Lightly Washed Slim Fit Jacket</td>\n",
       "      <td>[Men]</td>\n",
       "      <td>[prototype]</td>\n",
       "      <td>lightli wash slim fit jacket men prototyp blue</td>\n",
       "      <td>https://assets.ajio.com/medias/sys_master/root...</td>\n",
       "      <td>https://www.ajio.com/prototype-lightly-washed-...</td>\n",
       "    </tr>\n",
       "  </tbody>\n",
       "</table>\n",
       "<p>2368 rows × 7 columns</p>\n",
       "</div>"
      ],
      "text/plain": [
       "                ID                                      Name Category  \\\n",
       "0     441137362002                      Checked Polo T-shirt    [Men]   \n",
       "1     441124497006           Tapered Fit Flat-Front Trousers    [Men]   \n",
       "2     460453612003  Striped Slim Fit Shirt with Patch Pocket    [Men]   \n",
       "3     441036730003               Heathered Crew-Neck T-shirt    [Men]   \n",
       "4     441128531011     Washed Skinny Fit Jeans with Whiskers    [Men]   \n",
       "...            ...                                       ...      ...   \n",
       "4990  410294621035     New Ottoman Arctic Hooded Windcheater    [Men]   \n",
       "4992  469082975002      Logo Print Crew-Neck Batwing T-shirt    [Men]   \n",
       "4995  462002525004        Striped Short Sleeves Polo T-shirt    [Men]   \n",
       "4996  441128174003      Lightly Washed Mid-Rise Skinny Jeans    [Men]   \n",
       "4999  464057256003            Lightly Washed Slim Fit Jacket    [Men]   \n",
       "\n",
       "                       Brand  \\\n",
       "0                  [netplay]   \n",
       "1                  [netplay]   \n",
       "2     [the-indian-garage-co]   \n",
       "3                [performax]   \n",
       "4       [john-players-jeans]   \n",
       "...                      ...   \n",
       "4990              [superdry]   \n",
       "4992                 [levis]   \n",
       "4995          [campus-sutra]   \n",
       "4996    [john-players-jeans]   \n",
       "4999             [prototype]   \n",
       "\n",
       "                                                   Tags  \\\n",
       "0                  check polo t-shirt men netplay white   \n",
       "1         taper fit flat-front trouser men netplay navi   \n",
       "2     stripe slim fit shirt with patch pocket men th...   \n",
       "3      heather crew-neck t-shirt men performax charcoal   \n",
       "4     wash skinni fit jean with whisker men john-pla...   \n",
       "...                                                 ...   \n",
       "4990  new ottoman arctic hood windcheat men superdri...   \n",
       "4992    logo print crew-neck batw t-shirt men levi blue   \n",
       "4995  stripe short sleev polo t-shirt men campus-sut...   \n",
       "4996  lightli wash mid-ris skinni jean men john-play...   \n",
       "4999     lightli wash slim fit jacket men prototyp blue   \n",
       "\n",
       "                                              URL_image  \\\n",
       "0     https://assets.ajio.com/medias/sys_master/root...   \n",
       "1     https://assets.ajio.com/medias/sys_master/root...   \n",
       "2     https://assets.ajio.com/medias/sys_master/root...   \n",
       "3     https://assets.ajio.com/medias/sys_master/root...   \n",
       "4     https://assets.ajio.com/medias/sys_master/root...   \n",
       "...                                                 ...   \n",
       "4990  https://assets.ajio.com/medias/sys_master/root...   \n",
       "4992  https://assets.ajio.com/medias/sys_master/root...   \n",
       "4995  https://assets.ajio.com/medias/sys_master/root...   \n",
       "4996  https://assets.ajio.com/medias/sys_master/root...   \n",
       "4999  https://assets.ajio.com/medias/sys_master/root...   \n",
       "\n",
       "                                            Product_URL  \n",
       "0     https://www.ajio.com/netplay-checked-polo-t-sh...  \n",
       "1     https://www.ajio.com/netplay-tapered-fit-flat-...  \n",
       "2     https://www.ajio.com/the-indian-garage-co-stri...  \n",
       "3     https://www.ajio.com/performax-heathered-crew-...  \n",
       "4     https://www.ajio.com/john-players-jeans-washed...  \n",
       "...                                                 ...  \n",
       "4990  https://www.ajio.com/superdry-new-ottoman-arct...  \n",
       "4992  https://www.ajio.com/levis-logo-print-crew-nec...  \n",
       "4995  https://www.ajio.com/campus-sutra-striped-shor...  \n",
       "4996  https://www.ajio.com/john-players-jeans-lightl...  \n",
       "4999  https://www.ajio.com/prototype-lightly-washed-...  \n",
       "\n",
       "[2368 rows x 7 columns]"
      ]
     },
     "execution_count": 37,
     "metadata": {},
     "output_type": "execute_result"
    }
   ],
   "source": [
    "new_df"
   ]
  },
  {
   "cell_type": "code",
   "execution_count": 38,
   "id": "8c9ddf56-2440-4295-9468-c9f0312497aa",
   "metadata": {},
   "outputs": [
    {
     "data": {
      "text/plain": [
       "'Checked Polo T-shirt'"
      ]
     },
     "execution_count": 38,
     "metadata": {},
     "output_type": "execute_result"
    }
   ],
   "source": [
    "new_df['Name'][0]"
   ]
  },
  {
   "cell_type": "code",
   "execution_count": 39,
   "id": "8da26350-e2ca-4270-9554-d8fc61988554",
   "metadata": {},
   "outputs": [],
   "source": [
    "import pickle"
   ]
  },
  {
   "cell_type": "code",
   "execution_count": 40,
   "id": "8505e15d-b385-4417-b563-08b37a06eb07",
   "metadata": {},
   "outputs": [],
   "source": [
    "pickle.dump(new_df, open('Ajio_Recommender.pkl', 'wb'))"
   ]
  },
  {
   "cell_type": "code",
   "execution_count": 41,
   "id": "d850bd50-b0bb-432d-a067-24f1a24d1025",
   "metadata": {},
   "outputs": [],
   "source": [
    "pickle.dump(similarity, open('Ajio_Similarity.pkl', 'wb'))"
   ]
  },
  {
   "cell_type": "code",
   "execution_count": null,
   "id": "945dc0db-9646-47c8-8475-381c86066cae",
   "metadata": {},
   "outputs": [],
   "source": []
  }
 ],
 "metadata": {
  "kernelspec": {
   "display_name": "Python 3 (ipykernel)",
   "language": "python",
   "name": "python3"
  },
  "language_info": {
   "codemirror_mode": {
    "name": "ipython",
    "version": 3
   },
   "file_extension": ".py",
   "mimetype": "text/x-python",
   "name": "python",
   "nbconvert_exporter": "python",
   "pygments_lexer": "ipython3",
   "version": "3.12.7"
  }
 },
 "nbformat": 4,
 "nbformat_minor": 5
}
